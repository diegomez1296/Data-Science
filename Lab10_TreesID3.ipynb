{
 "cells": [
  {
   "cell_type": "code",
   "execution_count": 1,
   "metadata": {},
   "outputs": [],
   "source": [
    "def entropy(class_probabilities):\n",
    "    return sum(-p * math.log(p, 2) \n",
    "               for p in class_probabilities \n",
    "               if p)"
   ]
  },
  {
   "cell_type": "code",
   "execution_count": 2,
   "metadata": {},
   "outputs": [],
   "source": [
    "def class_probabilities(labels):\n",
    "    total_count = len(labels)\n",
    "    return [count / total_count\n",
    "            for count in Counter(labels).values()]"
   ]
  },
  {
   "cell_type": "code",
   "execution_count": 3,
   "metadata": {},
   "outputs": [],
   "source": [
    "def data_entropy(labeled_data):\n",
    "    labels = [label for _, label in labeled_data]\n",
    "    probabilities = class_probabilities(labels)\n",
    "    return entropy(probabilities)"
   ]
  },
  {
   "cell_type": "code",
   "execution_count": 4,
   "metadata": {},
   "outputs": [],
   "source": [
    "def partition_entropy(subsets):\n",
    "    total_count = sum(len(subset) for subset in subsets)\n",
    "\n",
    "    return sum( data_entropy(subset) * len(subset) / total_count\n",
    "                for subset in subsets )"
   ]
  },
  {
   "cell_type": "code",
   "execution_count": 5,
   "metadata": {},
   "outputs": [],
   "source": [
    "inputs = [\n",
    "        ({'level':'Senior','lang':'Java','tweets':'no','phd':'no'},   False),\n",
    "        ({'level':'Senior','lang':'Java','tweets':'no','phd':'yes'},  False),\n",
    "        ({'level':'Mid','lang':'Python','tweets':'no','phd':'no'},     True),\n",
    "        ({'level':'Junior','lang':'Python','tweets':'no','phd':'no'},  True),\n",
    "        ({'level':'Junior','lang':'R','tweets':'yes','phd':'no'},      True),\n",
    "        ({'level':'Junior','lang':'R','tweets':'yes','phd':'yes'},    False),\n",
    "        ({'level':'Mid','lang':'R','tweets':'yes','phd':'yes'},        True),\n",
    "        ({'level':'Senior','lang':'Python','tweets':'no','phd':'no'}, False),\n",
    "        ({'level':'Senior','lang':'R','tweets':'yes','phd':'no'},      True),\n",
    "        ({'level':'Junior','lang':'Python','tweets':'yes','phd':'no'}, True),\n",
    "        ({'level':'Senior','lang':'Python','tweets':'yes','phd':'yes'},True),\n",
    "        ({'level':'Mid','lang':'Python','tweets':'no','phd':'yes'},    True),\n",
    "        ({'level':'Mid','lang':'Java','tweets':'yes','phd':'no'},      True),\n",
    "        ({'level':'Junior','lang':'Python','tweets':'no','phd':'yes'},False)\n",
    "    ]"
   ]
  },
  {
   "cell_type": "code",
   "execution_count": 19,
   "metadata": {},
   "outputs": [],
   "source": [
    "from collections import Counter, defaultdict\n",
    "from functools import partial\n",
    "import math, random\n",
    "\n",
    "def partition_by(inputs, attribute):\n",
    "    groups = defaultdict(list)\n",
    "    for input in inputs:\n",
    "        key = input[0][attribute]\n",
    "        groups[key].append(input)\n",
    "    return groups"
   ]
  },
  {
   "cell_type": "code",
   "execution_count": 20,
   "metadata": {},
   "outputs": [],
   "source": [
    "def partition_entropy_by(inputs,attribute):\n",
    "    partitions = partition_by(inputs, attribute)\n",
    "    return partition_entropy(partitions.values())"
   ]
  },
  {
   "cell_type": "code",
   "execution_count": 24,
   "metadata": {},
   "outputs": [],
   "source": [
    "def classify(tree, input):\n",
    "\n",
    "    if tree in [True, False]:\n",
    "        return tree\n",
    "\n",
    "    attribute, subtree_dict = tree\n",
    "    subtree_key = input.get(attribute)  \n",
    "\n",
    "    if subtree_key not in subtree_dict: \n",
    "        subtree_key = None              \n",
    "\n",
    "    subtree = subtree_dict[subtree_key] \n",
    "    return classify(subtree, input)     "
   ]
  },
  {
   "cell_type": "code",
   "execution_count": 26,
   "metadata": {},
   "outputs": [],
   "source": [
    "def build_tree_id3(inputs, split_candidates=None):\n",
    "\n",
    "    if split_candidates is None:\n",
    "        split_candidates = inputs[0][0].keys()\n",
    "\n",
    "    num_inputs = len(inputs)\n",
    "    num_trues = len([label for item, label in inputs if label])\n",
    "    num_falses = num_inputs - num_trues\n",
    "\n",
    "    if num_trues == 0: return False                    \n",
    "    if num_falses == 0: return True                     \n",
    "    if not split_candidates: return num_trues >= num_falses  \n",
    "\n",
    "    best_attribute = min(split_candidates,\n",
    "        key=partial(partition_entropy_by, inputs))\n",
    "\n",
    "    partitions = partition_by(inputs, best_attribute)\n",
    "    new_candidates = [a for a in split_candidates\n",
    "                      if a != best_attribute]\n",
    "\n",
    "    subtrees = { attribute : build_tree_id3(subset, new_candidates)\n",
    "                 for attribute, subset in partitions.items() }\n",
    "\n",
    "    subtrees[None] = num_trues > num_falses\n",
    "\n",
    "    return (best_attribute, subtrees)"
   ]
  },
  {
   "cell_type": "code",
   "execution_count": 29,
   "metadata": {},
   "outputs": [
    {
     "data": {
      "text/plain": [
       "True"
      ]
     },
     "execution_count": 29,
     "metadata": {},
     "output_type": "execute_result"
    }
   ],
   "source": [
    "classify(build_tree_id3(inputs), \n",
    "         { \"level\" : \"Junior\",\n",
    "          \"lang\" : \"Java\",\n",
    "          \"tweets\" : \"yes\",\n",
    "          \"phd\" : \"no\"})"
   ]
  },
  {
   "cell_type": "code",
   "execution_count": 32,
   "metadata": {},
   "outputs": [
    {
     "data": {
      "text/plain": [
       "False"
      ]
     },
     "execution_count": 32,
     "metadata": {},
     "output_type": "execute_result"
    }
   ],
   "source": [
    "classify(build_tree_id3(inputs), \n",
    "         { \"level\" : \"Junior\",\n",
    "          \"lang\" : \"Java\",\n",
    "          \"tweets\" : \"yes\",\n",
    "          \"phd\" : \"yes\"})"
   ]
  },
  {
   "cell_type": "code",
   "execution_count": 33,
   "metadata": {},
   "outputs": [
    {
     "data": {
      "text/plain": [
       "('level',\n",
       " {'Senior': ('tweets', {'no': False, 'yes': True, None: False}),\n",
       "  'Mid': True,\n",
       "  'Junior': ('phd', {'no': True, 'yes': False, None: True}),\n",
       "  None: True})"
      ]
     },
     "execution_count": 33,
     "metadata": {},
     "output_type": "execute_result"
    }
   ],
   "source": [
    "tree = build_tree_id3(inputs)\n",
    "tree"
   ]
  },
  {
   "cell_type": "code",
   "execution_count": 34,
   "metadata": {},
   "outputs": [],
   "source": [
    "inputs20 = [\n",
    "        ({'level':'Senior','lang':'Java','tweets':'no','phd':'no'},   False),\n",
    "        ({'level':'Senior','lang':'Java','tweets':'no','phd':'yes'},  False),\n",
    "        ({'level':'Senior','lang':'Java','tweets':'yes','phd':'no'},   True),\n",
    "        ({'level':'Senior','lang':'Java','tweets':'yes','phd':'yes'},  True),\n",
    "    \n",
    "        ({'level':'Senior','lang':'Python','tweets':'no','phd':'no'},  False),\n",
    "        ({'level':'Senior','lang':'Python','tweets':'no','phd':'yes'}, False),\n",
    "        ({'level':'Senior','lang':'Python','tweets':'yes','phd':'no'}, True),\n",
    "        ({'level':'Senior','lang':'Python','tweets':'yes','phd':'yes'},True),\n",
    "    \n",
    "        ({'level':'Senior','lang':'R','tweets':'no','phd':'no'},  True),\n",
    "        ({'level':'Senior','lang':'R','tweets':'no','phd':'yes'}, False),\n",
    "        ({'level':'Senior','lang':'R','tweets':'yes','phd':'no'}, False),\n",
    "        ({'level':'Senior','lang':'R','tweets':'yes','phd':'yes'},True),\n",
    "        \n",
    "    \n",
    "        ({'level':'Mid','lang':'Python','tweets':'no','phd':'no'},     True),        \n",
    "        ({'level':'Mid','lang':'R','tweets':'yes','phd':'yes'},        True),\n",
    "        ({'level':'Mid','lang':'Python','tweets':'no','phd':'yes'},    True),\n",
    "        ({'level':'Mid','lang':'Java','tweets':'yes','phd':'no'},      True),\n",
    "    \n",
    "        ({'level':'Junior','lang':'Python','tweets':'yes','phd':'no'}, True),\n",
    "        ({'level':'Junior','lang':'Python','tweets':'no','phd':'yes'},False),\n",
    "        ({'level':'Junior','lang':'Python','tweets':'no','phd':'no'},  True),\n",
    "        ({'level':'Junior','lang':'R','tweets':'yes','phd':'no'},      True),\n",
    "    ]"
   ]
  },
  {
   "cell_type": "code",
   "execution_count": 35,
   "metadata": {},
   "outputs": [
    {
     "data": {
      "text/plain": [
       "('tweets',\n",
       " {'no': ('level',\n",
       "   {'Senior': ('lang',\n",
       "     {'Java': False,\n",
       "      'Python': False,\n",
       "      'R': ('phd', {'no': True, 'yes': False, None: False}),\n",
       "      None: False}),\n",
       "    'Mid': True,\n",
       "    'Junior': ('phd', {'yes': False, 'no': True, None: False}),\n",
       "    None: False}),\n",
       "  'yes': ('lang',\n",
       "   {'Java': True,\n",
       "    'Python': True,\n",
       "    'R': ('level',\n",
       "     {'Senior': ('phd', {'no': False, 'yes': True, None: False}),\n",
       "      'Mid': True,\n",
       "      'Junior': True,\n",
       "      None: True}),\n",
       "    None: True}),\n",
       "  None: True})"
      ]
     },
     "execution_count": 35,
     "metadata": {},
     "output_type": "execute_result"
    }
   ],
   "source": [
    "tree = build_tree_id3(inputs20)\n",
    "tree"
   ]
  },
  {
   "cell_type": "code",
   "execution_count": 45,
   "metadata": {},
   "outputs": [],
   "source": [
    "inputs50 = [\n",
    "        #Senior\n",
    "        ({'level':'Senior','lang':'Java','tweets':'no','phd':'no'},   False),\n",
    "        ({'level':'Senior','lang':'Java','tweets':'no','phd':'yes'},  False),\n",
    "        ({'level':'Senior','lang':'Java','tweets':'yes','phd':'no'},   True),\n",
    "        ({'level':'Senior','lang':'Java','tweets':'yes','phd':'yes'},  True),\n",
    "    \n",
    "        ({'level':'Senior','lang':'Python','tweets':'no','phd':'no'},  False),\n",
    "        ({'level':'Senior','lang':'Python','tweets':'no','phd':'yes'}, False),\n",
    "        ({'level':'Senior','lang':'Python','tweets':'yes','phd':'no'}, True),\n",
    "        ({'level':'Senior','lang':'Python','tweets':'yes','phd':'yes'},True),\n",
    "    \n",
    "        ({'level':'Senior','lang':'R','tweets':'no','phd':'no'},  True),\n",
    "        ({'level':'Senior','lang':'R','tweets':'no','phd':'yes'}, False),\n",
    "        ({'level':'Senior','lang':'R','tweets':'yes','phd':'no'}, False),\n",
    "        ({'level':'Senior','lang':'R','tweets':'yes','phd':'yes'},True),\n",
    "    \n",
    "        ({'level':'Senior','lang':'C#','tweets':'no','phd':'no'},   False),\n",
    "        ({'level':'Senior','lang':'C#','tweets':'no','phd':'yes'},  False),\n",
    "        ({'level':'Senior','lang':'C#','tweets':'yes','phd':'no'},   False),\n",
    "        ({'level':'Senior','lang':'C#','tweets':'yes','phd':'yes'},  True),\n",
    "        \n",
    "        ##Mid\n",
    "        ({'level':'Mid','lang':'Java','tweets':'no','phd':'no'},   False),\n",
    "        ({'level':'Mid','lang':'Java','tweets':'no','phd':'yes'},  True),\n",
    "        ({'level':'Mid','lang':'Java','tweets':'yes','phd':'no'},   True),\n",
    "        ({'level':'Mid','lang':'Java','tweets':'yes','phd':'yes'},  True),\n",
    "    \n",
    "        ({'level':'Mid','lang':'Python','tweets':'no','phd':'no'},  False),\n",
    "        ({'level':'Mid','lang':'Python','tweets':'no','phd':'yes'}, True),\n",
    "        ({'level':'Mid','lang':'Python','tweets':'yes','phd':'no'}, False),\n",
    "        ({'level':'Mid','lang':'Python','tweets':'yes','phd':'yes'},True),\n",
    "    \n",
    "        ({'level':'Mid','lang':'R','tweets':'no','phd':'no'},  True),\n",
    "        ({'level':'Mid','lang':'R','tweets':'no','phd':'yes'}, True),\n",
    "        ({'level':'Mid','lang':'R','tweets':'yes','phd':'no'}, False),\n",
    "        ({'level':'Mid','lang':'R','tweets':'yes','phd':'yes'},True),\n",
    "    \n",
    "        ({'level':'Mid','lang':'C#','tweets':'no','phd':'no'},  True),\n",
    "        ({'level':'Mid','lang':'C#','tweets':'no','phd':'yes'}, True),\n",
    "        ({'level':'Mid','lang':'C#','tweets':'yes','phd':'no'}, True),\n",
    "        ({'level':'Mid','lang':'C#','tweets':'yes','phd':'yes'},True),\n",
    "    \n",
    "        ##Junior\n",
    "        ({'level':'Junior','lang':'Java','tweets':'no','phd':'no'},   False),\n",
    "        ({'level':'Junior','lang':'Java','tweets':'no','phd':'yes'},  True),\n",
    "        ({'level':'Junior','lang':'Java','tweets':'yes','phd':'no'},   False),\n",
    "        ({'level':'Junior','lang':'Java','tweets':'yes','phd':'yes'},  False),\n",
    "    \n",
    "        ({'level':'Junior','lang':'Python','tweets':'no','phd':'no'},  False),\n",
    "        ({'level':'Junior','lang':'Python','tweets':'no','phd':'yes'}, True),\n",
    "        ({'level':'Junior','lang':'Python','tweets':'yes','phd':'no'}, False),\n",
    "        ({'level':'Junior','lang':'Python','tweets':'yes','phd':'yes'},True),\n",
    "    \n",
    "        ({'level':'Junior','lang':'R','tweets':'no','phd':'no'},  False),\n",
    "        ({'level':'Junior','lang':'R','tweets':'no','phd':'yes'}, True),\n",
    "        ({'level':'Junior','lang':'R','tweets':'yes','phd':'no'}, False),\n",
    "        ({'level':'Junior','lang':'R','tweets':'yes','phd':'yes'},False),\n",
    "    \n",
    "        ({'level':'Junior','lang':'C#','tweets':'no','phd':'no'},  True),\n",
    "        ({'level':'Junior','lang':'C#','tweets':'no','phd':'yes'}, True),\n",
    "        ({'level':'Junior','lang':'C#','tweets':'yes','phd':'no'}, False),\n",
    "        ({'level':'Junior','lang':'C#','tweets':'yes','phd':'yes'},True),\n",
    "    \n",
    "        ##WithoutExp\n",
    "        ({'level':'WithoutExp','lang':'Java','tweets':'yes','phd':'no'}, False),\n",
    "        ({'level':'WithoutExp','lang':'C#','tweets':'yes','phd':'no'}, False),\n",
    "    ]"
   ]
  },
  {
   "cell_type": "code",
   "execution_count": 46,
   "metadata": {},
   "outputs": [
    {
     "data": {
      "text/plain": [
       "('phd',\n",
       " {'no': ('level',\n",
       "   {'Senior': ('lang',\n",
       "     {'Java': ('tweets', {'no': False, 'yes': True, None: False}),\n",
       "      'Python': ('tweets', {'no': False, 'yes': True, None: False}),\n",
       "      'R': ('tweets', {'no': True, 'yes': False, None: False}),\n",
       "      'C#': False,\n",
       "      None: False}),\n",
       "    'Mid': ('lang',\n",
       "     {'Java': ('tweets', {'no': False, 'yes': True, None: False}),\n",
       "      'Python': False,\n",
       "      'R': ('tweets', {'no': True, 'yes': False, None: False}),\n",
       "      'C#': True,\n",
       "      None: False}),\n",
       "    'Junior': ('lang',\n",
       "     {'Java': False,\n",
       "      'Python': False,\n",
       "      'R': False,\n",
       "      'C#': ('tweets', {'no': True, 'yes': False, None: False}),\n",
       "      None: False}),\n",
       "    'WithoutExp': False,\n",
       "    None: False}),\n",
       "  'yes': ('level',\n",
       "   {'Senior': ('tweets', {'no': False, 'yes': True, None: False}),\n",
       "    'Mid': True,\n",
       "    'Junior': ('lang',\n",
       "     {'Java': ('tweets', {'no': True, 'yes': False, None: False}),\n",
       "      'Python': True,\n",
       "      'R': ('tweets', {'no': True, 'yes': False, None: False}),\n",
       "      'C#': True,\n",
       "      None: True}),\n",
       "    None: True}),\n",
       "  None: True})"
      ]
     },
     "execution_count": 46,
     "metadata": {},
     "output_type": "execute_result"
    }
   ],
   "source": [
    "tree = build_tree_id3(inputs50)\n",
    "tree"
   ]
  },
  {
   "cell_type": "code",
   "execution_count": null,
   "metadata": {},
   "outputs": [],
   "source": []
  }
 ],
 "metadata": {
  "kernelspec": {
   "display_name": "Python 3",
   "language": "python",
   "name": "python3"
  },
  "language_info": {
   "codemirror_mode": {
    "name": "ipython",
    "version": 3
   },
   "file_extension": ".py",
   "mimetype": "text/x-python",
   "name": "python",
   "nbconvert_exporter": "python",
   "pygments_lexer": "ipython3",
   "version": "3.7.4"
  }
 },
 "nbformat": 4,
 "nbformat_minor": 2
}
