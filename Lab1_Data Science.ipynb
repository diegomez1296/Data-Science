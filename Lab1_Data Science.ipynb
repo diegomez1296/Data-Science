{
 "cells": [
  {
   "cell_type": "code",
   "execution_count": 1,
   "metadata": {},
   "outputs": [
    {
     "data": {
      "text/plain": [
       "array([0., 0., 0., 0., 0., 0., 0., 0., 0., 0.])"
      ]
     },
     "execution_count": 1,
     "metadata": {},
     "output_type": "execute_result"
    }
   ],
   "source": [
    "import numpy as np\n",
    "#Talbica 10 zer\n",
    "np.zeros(10)"
   ]
  },
  {
   "cell_type": "code",
   "execution_count": 2,
   "metadata": {},
   "outputs": [
    {
     "data": {
      "text/plain": [
       "array([5., 5., 5., 5., 5., 5., 5., 5., 5., 5.])"
      ]
     },
     "execution_count": 2,
     "metadata": {},
     "output_type": "execute_result"
    }
   ],
   "source": [
    "#Tablica 10 piątek\n",
    "np.ones(10) * 5"
   ]
  },
  {
   "cell_type": "code",
   "execution_count": 8,
   "metadata": {},
   "outputs": [
    {
     "data": {
      "text/plain": [
       "array([10, 11, 12, 13, 14, 15, 16, 17, 18, 19, 20, 21, 22, 23, 24, 25, 26,\n",
       "       27, 28, 29, 30, 31, 32, 33, 34, 35, 36, 37, 38, 39, 40, 41, 42, 43,\n",
       "       44, 45, 46, 47, 48, 49, 50])"
      ]
     },
     "execution_count": 8,
     "metadata": {},
     "output_type": "execute_result"
    }
   ],
   "source": [
    "#Tablica zawierająca liczby od 10 do 50\n",
    "np.arange(10,51,1)"
   ]
  },
  {
   "cell_type": "code",
   "execution_count": 16,
   "metadata": {},
   "outputs": [
    {
     "data": {
      "text/plain": [
       "array([[0, 1, 2],\n",
       "       [3, 4, 5],\n",
       "       [6, 7, 8]])"
      ]
     },
     "execution_count": 16,
     "metadata": {},
     "output_type": "execute_result"
    }
   ],
   "source": [
    "#Macierz o wymiarach 3x3 zawierającą liczby od 0 do 8\n",
    "np.arange(0,9,1).reshape(3,3)"
   ]
  },
  {
   "cell_type": "code",
   "execution_count": 19,
   "metadata": {},
   "outputs": [
    {
     "data": {
      "text/plain": [
       "array([[1, 1, 1],\n",
       "       [1, 1, 1],\n",
       "       [1, 1, 1]])"
      ]
     },
     "execution_count": 19,
     "metadata": {},
     "output_type": "execute_result"
    }
   ],
   "source": [
    "#Macierz jednostkowa o wymiarach 3x3,\n",
    "np.full((3,3),1)"
   ]
  },
  {
   "cell_type": "code",
   "execution_count": 21,
   "metadata": {},
   "outputs": [
    {
     "data": {
      "text/plain": [
       "array([[-0.21989544, -0.26683331, -0.60770147, -1.27841824,  1.24627933],\n",
       "       [ 0.90854596, -0.27742614,  0.20417676, -1.01549009, -1.27767167],\n",
       "       [ 0.17807166,  0.01710769,  0.88661075, -0.32820695,  0.70998201],\n",
       "       [-0.11535377,  0.0368479 ,  1.12114294, -0.62206011,  0.26238856],\n",
       "       [-1.43410643, -1.56464298,  0.63721169,  0.38196042, -0.49000722]])"
      ]
     },
     "execution_count": 21,
     "metadata": {},
     "output_type": "execute_result"
    }
   ],
   "source": [
    "#Macierz o wymiarach 5x5 zawierającą liczby \n",
    "# z dystrybucji normalnej (Gaussa)\n",
    "np.random.randn(5, 5)"
   ]
  },
  {
   "cell_type": "code",
   "execution_count": 24,
   "metadata": {},
   "outputs": [
    {
     "data": {
      "text/plain": [
       "array([[0.01, 0.02, 0.03, 0.04, 0.05, 0.06, 0.07, 0.08, 0.09, 0.1 ],\n",
       "       [0.11, 0.12, 0.13, 0.14, 0.15, 0.16, 0.17, 0.18, 0.19, 0.2 ],\n",
       "       [0.21, 0.22, 0.23, 0.24, 0.25, 0.26, 0.27, 0.28, 0.29, 0.3 ],\n",
       "       [0.31, 0.32, 0.33, 0.34, 0.35, 0.36, 0.37, 0.38, 0.39, 0.4 ],\n",
       "       [0.41, 0.42, 0.43, 0.44, 0.45, 0.46, 0.47, 0.48, 0.49, 0.5 ],\n",
       "       [0.51, 0.52, 0.53, 0.54, 0.55, 0.56, 0.57, 0.58, 0.59, 0.6 ],\n",
       "       [0.61, 0.62, 0.63, 0.64, 0.65, 0.66, 0.67, 0.68, 0.69, 0.7 ],\n",
       "       [0.71, 0.72, 0.73, 0.74, 0.75, 0.76, 0.77, 0.78, 0.79, 0.8 ],\n",
       "       [0.81, 0.82, 0.83, 0.84, 0.85, 0.86, 0.87, 0.88, 0.89, 0.9 ],\n",
       "       [0.91, 0.92, 0.93, 0.94, 0.95, 0.96, 0.97, 0.98, 0.99, 1.  ]])"
      ]
     },
     "execution_count": 24,
     "metadata": {},
     "output_type": "execute_result"
    }
   ],
   "source": [
    "#Macierz o wymiarach 10x10 zawierającą liczby od 0,01 do 1 z krokiem 0,01\n",
    "np.arange(1,101,1).reshape(10,10) / 100"
   ]
  },
  {
   "cell_type": "code",
   "execution_count": 31,
   "metadata": {},
   "outputs": [
    {
     "data": {
      "text/plain": [
       "array([0.        , 0.05263158, 0.10526316, 0.15789474, 0.21052632,\n",
       "       0.26315789, 0.31578947, 0.36842105, 0.42105263, 0.47368421,\n",
       "       0.52631579, 0.57894737, 0.63157895, 0.68421053, 0.73684211,\n",
       "       0.78947368, 0.84210526, 0.89473684, 0.94736842, 1.        ])"
      ]
     },
     "execution_count": 31,
     "metadata": {},
     "output_type": "execute_result"
    }
   ],
   "source": [
    "#Tablicę zawierającą 20 liniowo rozłożonych liczb \n",
    "# między 0 a 1 (włącznie z 0 i 1)\n",
    "np.linspace(0,1,20)"
   ]
  },
  {
   "cell_type": "code",
   "execution_count": 69,
   "metadata": {},
   "outputs": [
    {
     "name": "stdout",
     "output_type": "stream",
     "text": [
      "[[16 24  8 10 19]\n",
      " [16 19  7 24 15]\n",
      " [13  5 16 14  4]\n",
      " [ 9  1 16 14  1]\n",
      " [ 4 16 15 14  8]]\n"
     ]
    }
   ],
   "source": [
    "#Tablica zawierająca losowe liczby z przedziału (1, 25), \n",
    "# następnie zamień ją na macierz o wymiarach 5 x 5 z tymi samymi liczbami\n",
    "arr = np.random.randint(25, size=(5,5))+1\n",
    "print(arr)"
   ]
  },
  {
   "cell_type": "code",
   "execution_count": 70,
   "metadata": {},
   "outputs": [
    {
     "data": {
      "text/plain": [
       "308"
      ]
     },
     "execution_count": 70,
     "metadata": {},
     "output_type": "execute_result"
    }
   ],
   "source": [
    "#suma wszystkich liczb w ww. macierzy\n",
    "arr.sum()"
   ]
  },
  {
   "cell_type": "code",
   "execution_count": 71,
   "metadata": {},
   "outputs": [
    {
     "data": {
      "text/plain": [
       "12.32"
      ]
     },
     "execution_count": 71,
     "metadata": {},
     "output_type": "execute_result"
    }
   ],
   "source": [
    "#średnia wszystkich liczb w ww. macierzy\n",
    "arr.mean()"
   ]
  },
  {
   "cell_type": "code",
   "execution_count": 72,
   "metadata": {},
   "outputs": [
    {
     "data": {
      "text/plain": [
       "6.271969387680396"
      ]
     },
     "execution_count": 72,
     "metadata": {},
     "output_type": "execute_result"
    }
   ],
   "source": [
    "#standardowa dewiacja dla liczb w ww. macierzy\n",
    "arr.std()"
   ]
  },
  {
   "cell_type": "code",
   "execution_count": 73,
   "metadata": {},
   "outputs": [
    {
     "name": "stdout",
     "output_type": "stream",
     "text": [
      "\n",
      "[58 65 62 76 47]\n"
     ]
    }
   ],
   "source": [
    "#oblicz sumę każdej kolumny ww. macierzy i zapisz ją do tablicy\n",
    "print()\n",
    "b = arr.sum(0)\n",
    "print(b)"
   ]
  },
  {
   "cell_type": "code",
   "execution_count": 75,
   "metadata": {},
   "outputs": [
    {
     "name": "stdout",
     "output_type": "stream",
     "text": [
      "[[91  3 97 56 64]\n",
      " [70 93 48 41 61]\n",
      " [15 89  1 65 88]\n",
      " [69 77 81 14  8]\n",
      " [18 16 69 51  8]]\n"
     ]
    }
   ],
   "source": [
    "#Utwórz macierz o wymiarach 5x5 \n",
    "# zawierającą losowe liczby z przedziału (0, 100) i:\n",
    "arr2 = np.random.randint(100, size=(5,5))\n",
    "print(arr2)"
   ]
  },
  {
   "cell_type": "code",
   "execution_count": 78,
   "metadata": {},
   "outputs": [
    {
     "data": {
      "text/plain": [
       "61.0"
      ]
     },
     "execution_count": 78,
     "metadata": {},
     "output_type": "execute_result"
    }
   ],
   "source": [
    "#oblicz medianę tych liczb\n",
    "np.median(arr2)"
   ]
  },
  {
   "cell_type": "code",
   "execution_count": 79,
   "metadata": {},
   "outputs": [
    {
     "data": {
      "text/plain": [
       "1"
      ]
     },
     "execution_count": 79,
     "metadata": {},
     "output_type": "execute_result"
    }
   ],
   "source": [
    "#najmniejszą liczbę tej macierzy\n",
    "np.min(arr2)"
   ]
  },
  {
   "cell_type": "code",
   "execution_count": 80,
   "metadata": {},
   "outputs": [
    {
     "data": {
      "text/plain": [
       "97"
      ]
     },
     "execution_count": 80,
     "metadata": {},
     "output_type": "execute_result"
    }
   ],
   "source": [
    "#największą liczbę tej macierzy\n",
    "np.max(arr2)"
   ]
  },
  {
   "cell_type": "code",
   "execution_count": 81,
   "metadata": {},
   "outputs": [
    {
     "name": "stdout",
     "output_type": "stream",
     "text": [
      "[[45 49 13 64 54 66]\n",
      " [73 63 53 56  9 52]\n",
      " [45 21  1 84 80 43]\n",
      " [43 66 76 69 29 31]]\n",
      "[[45 73 45 43]\n",
      " [49 63 21 66]\n",
      " [13 53  1 76]\n",
      " [64 56 84 69]\n",
      " [54  9 80 29]\n",
      " [66 52 43 31]]\n"
     ]
    }
   ],
   "source": [
    "#Utwórz macierz o wymiarach różnych od siebie i większych od 1, \n",
    "# zawierającą losowe liczby z przedziału (0, 100) \n",
    "#  i dokonaj jej transpozycji\n",
    "arr3 = np.random.randint(100, size=(4,6))\n",
    "print(arr3)\n",
    "arr4 = np.transpose(arr3)\n",
    "print(arr4)"
   ]
  },
  {
   "cell_type": "code",
   "execution_count": 90,
   "metadata": {},
   "outputs": [
    {
     "name": "stdout",
     "output_type": "stream",
     "text": [
      "[[18 16 15 18]\n",
      " [15 15 16  7]\n",
      " [21 20  5 15]]\n",
      "-----------------------\n",
      "[[ 9 21  9 24]\n",
      " [ 7  3  8  2]\n",
      " [18 11 12 24]]\n",
      "-----------------------\n",
      "[[27 37 24 42]\n",
      " [22 18 24  9]\n",
      " [39 31 17 39]]\n",
      "-----------------------\n",
      "[[162 336 135 432]\n",
      " [105  45 128  14]\n",
      " [378 220  60 360]]\n",
      "-----------------------\n"
     ]
    }
   ],
   "source": [
    "#Utwórz dwie macierze o odpowiednich wymiarach (doczytać), \n",
    "# większych od 2 i dodaj je do siebie\n",
    "\n",
    "mtx1 = np.random.randint(25, size=(3,4))+1\n",
    "print(mtx1)\n",
    "print(\"-----------------------\")\n",
    "mtx2 = np.random.randint(25, size=(3,4))+1\n",
    "print(mtx2)\n",
    "print(\"-----------------------\")\n",
    "mtx3 = mtx1 + mtx2\n",
    "print(mtx3)\n",
    "print(\"-----------------------\")"
   ]
  },
  {
   "cell_type": "code",
   "execution_count": 108,
   "metadata": {},
   "outputs": [
    {
     "name": "stdout",
     "output_type": "stream",
     "text": [
      "[[4 6 2 8 1]\n",
      " [5 6 8 3 4]]\n",
      "-----------------------\n",
      "[[3 3]\n",
      " [3 6]\n",
      " [8 1]\n",
      " [8 6]\n",
      " [9 6]]\n",
      "-----------------------\n"
     ]
    },
    {
     "data": {
      "text/plain": [
       "array([[119, 104],\n",
       "       [157, 101]])"
      ]
     },
     "execution_count": 108,
     "metadata": {},
     "output_type": "execute_result"
    }
   ],
   "source": [
    "#Utwórz dwie macierze o odpowiednich wymiarach (doczytać) różńych od siebie, \n",
    "# większych od 2 i pomnóż je przez siebie\n",
    "\n",
    "x1 = np.random.randint(10, size=(2,5))\n",
    "print(x1)\n",
    "print(\"-----------------------\")\n",
    "x2 = np.random.randint(10, size=(5,2))\n",
    "print(x2)\n",
    "print(\"-----------------------\")\n",
    "np.matmul(x1, x2)"
   ]
  },
  {
   "cell_type": "code",
   "execution_count": null,
   "metadata": {},
   "outputs": [],
   "source": []
  }
 ],
 "metadata": {
  "kernelspec": {
   "display_name": "Python 3",
   "language": "python",
   "name": "python3"
  },
  "language_info": {
   "codemirror_mode": {
    "name": "ipython",
    "version": 3
   },
   "file_extension": ".py",
   "mimetype": "text/x-python",
   "name": "python",
   "nbconvert_exporter": "python",
   "pygments_lexer": "ipython3",
   "version": "3.7.4"
  }
 },
 "nbformat": 4,
 "nbformat_minor": 2
}
