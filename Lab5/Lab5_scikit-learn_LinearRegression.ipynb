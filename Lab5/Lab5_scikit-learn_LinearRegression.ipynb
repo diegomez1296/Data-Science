{
 "cells": [
  {
   "cell_type": "code",
   "execution_count": 3,
   "metadata": {},
   "outputs": [
    {
     "name": "stdout",
     "output_type": "stream",
     "text": [
      "Coefficients: \n",
      " [-0.42498723]\n",
      "Residual sum of squares: 56.18\n",
      "Variance score: -1.40\n",
      "Coefficients: \n",
      " [0.13992373]\n",
      "Residual sum of squares: 30.56\n",
      "Variance score: -0.31\n",
      "Coefficients: \n",
      " [-0.65457086]\n",
      "Residual sum of squares: 18.56\n",
      "Variance score: 0.21\n",
      "Coefficients: \n",
      " [6.18101996]\n",
      "Residual sum of squares: 38.50\n",
      "Variance score: -0.65\n",
      "Coefficients: \n",
      " [-33.50740648]\n",
      "Residual sum of squares: 31.06\n",
      "Variance score: -0.33\n",
      "Coefficients: \n",
      " [9.126359]\n",
      "Residual sum of squares: 18.73\n",
      "Variance score: 0.20\n",
      "Coefficients: \n",
      " [-0.12125016]\n",
      "Residual sum of squares: 27.00\n",
      "Variance score: -0.15\n",
      "Coefficients: \n",
      " [1.04990962]\n",
      "Residual sum of squares: 29.56\n",
      "Variance score: -0.26\n",
      "Coefficients: \n",
      " [-0.42430923]\n",
      "Residual sum of squares: 67.82\n",
      "Variance score: -1.90\n",
      "Coefficients: \n",
      " [-0.02580034]\n",
      "Residual sum of squares: 27.40\n",
      "Variance score: -0.17\n"
     ]
    },
    {
     "data": {
      "image/png": "[encoded data removed]",
      "text/plain": [
       "<Figure size 864x864 with 10 Axes>"
      ]
     },
     "metadata": {
      "needs_background": "light"
     },
     "output_type": "display_data"
    }
   ],
   "source": [
    "import matplotlib.pyplot as plt\n",
    "import numpy as np\n",
    "from sklearn import datasets, linear_model\n",
    "\n",
    "# załadowanie zbioru danych Boston\n",
    "boston = datasets.load_boston()\n",
    "f, axarr = plt.subplots(5,2, sharex=True, sharey=True,figsize=(12,12))\n",
    "for i in range(0,5):\n",
    "    for j in range(0,2):\n",
    "        # Wybranie danych\n",
    "        boston_X = boston.data[:, np.newaxis, i*2+j]\n",
    "        \n",
    "        # Podzielenie danych na zbiory treningowe / testowe\n",
    "        boston_X_train = boston_X[:-20]\n",
    "        boston_X_test = boston_X[-20:]\n",
    "        \n",
    "        # Podzielenie celów na zestawy treningowe / testowe\n",
    "        boston_y_train = boston.target[:-20]\n",
    "        boston_y_test = boston.target[-20:]\n",
    "        \n",
    "        # Stworzenie obiektu regresji liniowej \n",
    "        regr = linear_model.LinearRegression()\n",
    "        \n",
    "        # Nauczanie na zbiorze treningowym\n",
    "        regr.fit(boston_X_train, boston_y_train)\n",
    "        \n",
    "        # Wyświetlenie współczynników\n",
    "        print('Coefficients: \\n', regr.coef_)\n",
    "        # Błąd\n",
    "        print(\"Residual sum of squares: %.2f\"\n",
    "              % np.mean((regr.predict(boston_X_test) - boston_y_test) ** 2))\n",
    "        # Wynik wariancji \n",
    "        print('Variance score: %.2f' % regr.score(boston_X_test, boston_y_test))\n",
    "        \n",
    "        # Wykres\n",
    "        axarr[i,j].scatter(boston_X_test, boston_y_test,  color='red')\n",
    "        axarr[i,j].plot(boston_X_test, regr.predict(boston_X_test), color='blue', linewidth=1)\n",
    "        \n",
    "plt.show()"
   ]
  },
  {
   "cell_type": "code",
   "execution_count": 5,
   "metadata": {},
   "outputs": [
    {
     "name": "stdout",
     "output_type": "stream",
     "text": [
      "LinReg\n",
      "----------\n",
      "  mse=1789.5698810318188\n",
      "  wl1=3260.7037691826517\n",
      "  wl2=1274.1717569251268\n",
      "  w=[   1.19680495 -233.50366519  519.88450429  304.48097981 -726.44619916\n",
      "  415.80697199   83.01061117  203.1648289   667.92936385  105.27983988]\n",
      " \n",
      "Ridge\n",
      "----------\n",
      "  mse=2384.1858647392596\n",
      "  wl1=1511.08233400137\n",
      "  wl2=589.1449165292607\n",
      "  w=[  23.62740295 -119.32265523  362.44657362  222.30799722  -11.56467397\n",
      "  -45.46192157 -169.43933329  129.82831679  292.72970213  134.35375724]\n",
      " \n",
      "Lasso\n",
      "----------\n",
      "  mse=5912.974117294878\n",
      "  wl1=0.0\n",
      "  wl2=0.0\n",
      "  w=[ 0.  0.  0.  0.  0.  0. -0.  0.  0.  0.]\n",
      " \n",
      "ElNet\n",
      "----------\n",
      "  mse=5781.123148775016\n",
      "  wl1=39.063433331886635\n",
      "  wl2=14.336395063161204\n",
      "  w=[ 1.48801264  0.          7.23427291  4.94114391  2.19772301  1.7139797\n",
      " -4.52179996  5.31415092  6.88097675  4.77137353]\n",
      " \n"
     ]
    }
   ],
   "source": [
    "#Porównanie modeli regresji liniowej\n",
    "import numpy as np\n",
    "import matplotlib.pyplot as plt\n",
    "from sklearn import datasets, linear_model as linm\n",
    "\n",
    "# Załadowanie zbioru diabets\n",
    "diabetes  = datasets.load_diabetes ()\n",
    "# Pobranie danych X i Y\n",
    "diabetes_X = diabetes.data\n",
    "diabetes_Y = diabetes.target\n",
    "# Podzielenie danych na zbiory treningowe i testowe\n",
    "diabetes_X_train = diabetes_X[:-50]\n",
    "diabetes_X_test = diabetes_X[-50:]\n",
    "# Podzielenie celów na zestawy szkoleniowe / testowe\n",
    "diabetes_y_train = diabetes_Y[:-50]\n",
    "diabetes_y_test = diabetes_Y[-50:]\n",
    "\n",
    "regressors = {}\n",
    "regressors['LinReg'] =linm.LinearRegression()\n",
    "regressors['Ridge'] = linm.Ridge(alpha = .5)\n",
    "regressors['Lasso'] = linm.Lasso(alpha = 5.1)\n",
    "regressors['ElNet'] =linm.ElasticNet(alpha = .5, l1_ratio=0.5)\n",
    "fit_results={}\n",
    "for key in regressors:\n",
    "    # Nauczanie na zbiorze treningowym\n",
    "    regr = regressors[key]\n",
    "    regr.fit(diabetes_X_train, diabetes_y_train)\n",
    "    # Wyliczenie błędu\n",
    "    mse = np.mean((regr.predict(diabetes_X_test) - diabetes_y_test) ** 2)\n",
    "    w = regr.coef_\n",
    "    # l1 norm\n",
    "    wl1 = np.sum(np.abs(w))\n",
    "    # l2 norm\n",
    "    wl2 = np.sqrt(np.sum(w**2))\n",
    "    fit_results[key]= { 'mse': mse, 'wl2': wl2, 'wl1': wl1, 'w': w}\n",
    "    print(\"{}\\n----------\\n  mse={}\\n  wl1={}\\n  wl2={}\\n  w={}\\n \".format(key,mse,wl1,wl2,w))"
   ]
  },
  {
   "cell_type": "code",
   "execution_count": 6,
   "metadata": {},
   "outputs": [
    {
     "data": {
      "image/png": "[encoded data removed]",
      "text/plain": [
       "<Figure size 1080x648 with 1 Axes>"
      ]
     },
     "metadata": {
      "needs_background": "light"
     },
     "output_type": "display_data"
    }
   ],
   "source": [
    "groups = 3\n",
    "index = np.arange(groups)\n",
    "bar_width = .2\n",
    "opacity = 0.4\n",
    "fig, ax = plt.subplots(figsize=(15,9))\n",
    "t=0\n",
    "for key in regressors:\n",
    "    results = fit_results[key]\n",
    "    res_val = (results['mse'],results['wl1'],results['wl2'])\n",
    "    plt.bar(index+ bar_width*t, res_val, bar_width,\n",
    "                 alpha=opacity,\n",
    "                 color=np.random.rand(1,3),\n",
    "                 label=key)\n",
    "    t+=1\n",
    "plt.xlabel('Modele regresji')\n",
    "plt.title('Porownanie modeli regresji: MSE, wl1, wl2')\n",
    "plt.xticks(index + (t-2)*bar_width, ('MSE', 'wl1', 'wl2'))\n",
    "plt.legend()\n",
    "plt.tight_layout()\n",
    "plt.show()"
   ]
  },
  {
   "cell_type": "code",
   "execution_count": 14,
   "metadata": {},
   "outputs": [
    {
     "data": {
      "image/png": "[encoded data removed]",
      "text/plain": [
       "<Figure size 432x288 with 1 Axes>"
      ]
     },
     "metadata": {
      "needs_background": "light"
     },
     "output_type": "display_data"
    }
   ],
   "source": [
    "import pandas as pd\n",
    "from sklearn.model_selection import train_test_split\n",
    "\n",
    "malzenstwa = pd.read_csv('lab5_malzenstwa.csv', sep=';', encoding='iso-8859-1')\n",
    "ludnosc = malzenstwa.ludnosc\n",
    "malzenstwa_count = malzenstwa.malzenstwa\n",
    "\n",
    "X_train, X_test, Y_train, Y_test = train_test_split(ludnosc, malzenstwa_count, test_size=0.33)\n",
    "\n",
    "regr = linear_model.LinearRegression()\n",
    "\n",
    "regr.fit(X_train.values.reshape(-1,1), Y_train.values.reshape(-1,1))\n",
    "\n",
    "plt.scatter(X_test.values, Y_test.values,  color='red')\n",
    "plt.plot(X_test, regr.predict(X_test.values.reshape(-1,1)), color='blue', linewidth=1)\n",
    "plt.title('Ilość małżeństw względem podanej ludności - Regresja liniowa')\n",
    "plt.ylabel('Ilość małżeństw')\n",
    "plt.show()"
   ]
  },
  {
   "cell_type": "code",
   "execution_count": 15,
   "metadata": {},
   "outputs": [
    {
     "data": {
      "image/png": "[encoded data removed]",
      "text/plain": [
       "<Figure size 432x288 with 1 Axes>"
      ]
     },
     "metadata": {
      "needs_background": "light"
     },
     "output_type": "display_data"
    }
   ],
   "source": [
    "wydatki_df = pd.read_csv('lab5_wydatki.csv', sep=',', encoding='iso-8859-1')\n",
    "dochody = wydatki_df.Dochody\n",
    "wydatki = wydatki_df.Wydatki\n",
    "\n",
    "X_train, X_test, Y_train, Y_test = train_test_split(dochody, wydatki, test_size=0.33)\n",
    "\n",
    "regr = linear_model.LinearRegression()\n",
    "\n",
    "regr.fit(X_train.values.reshape(-1,1), Y_train.values.reshape(-1,1))\n",
    "        \n",
    "plt.scatter(X_test.values, Y_test.values,  color='red')\n",
    "plt.plot(X_test, regr.predict(X_test.values.reshape(-1,1)), color='blue', linewidth=1)\n",
    "plt.title('Wydatki względem dochodu - Regresja liniowa')\n",
    "plt.ylabel('Wydatki')\n",
    "plt.show()"
   ]
  },
  {
   "cell_type": "code",
   "execution_count": 23,
   "metadata": {},
   "outputs": [
    {
     "name": "stdout",
     "output_type": "stream",
     "text": [
      "Średnie X: \n",
      "0.5114764339961188\n",
      "Średnie Y: \n",
      "0.4750152602985813\n"
     ]
    }
   ],
   "source": [
    "random_array = np.random.uniform(0,1, size=(2, 100))\n",
    "\n",
    "avgX = random_array[0,:].mean()\n",
    "avgY = random_array[1,:].mean()\n",
    "\n",
    "print(\"Średnie X: \")\n",
    "print(avgX)\n",
    "print(\"Średnie Y: \")\n",
    "print(avgY)"
   ]
  },
  {
   "cell_type": "code",
   "execution_count": 29,
   "metadata": {},
   "outputs": [
    {
     "data": {
      "text/html": [
       "<div>\n",
       "<style scoped>\n",
       "    .dataframe tbody tr th:only-of-type {\n",
       "        vertical-align: middle;\n",
       "    }\n",
       "\n",
       "    .dataframe tbody tr th {\n",
       "        vertical-align: top;\n",
       "    }\n",
       "\n",
       "    .dataframe thead th {\n",
       "        text-align: right;\n",
       "    }\n",
       "</style>\n",
       "<table border=\"1\" class=\"dataframe\">\n",
       "  <thead>\n",
       "    <tr style=\"text-align: right;\">\n",
       "      <th></th>\n",
       "      <th>x</th>\n",
       "      <th>y</th>\n",
       "      <th>deltaX</th>\n",
       "      <th>deltaY</th>\n",
       "      <th>deltaX^2</th>\n",
       "      <th>deltaY^2</th>\n",
       "      <th>deltaX2 * deltaY2</th>\n",
       "    </tr>\n",
       "  </thead>\n",
       "  <tbody>\n",
       "    <tr>\n",
       "      <td>0</td>\n",
       "      <td>0.157512</td>\n",
       "      <td>0.271307</td>\n",
       "      <td>-0.353964</td>\n",
       "      <td>-0.203708</td>\n",
       "      <td>0.125291</td>\n",
       "      <td>0.041497</td>\n",
       "      <td>0.005199</td>\n",
       "    </tr>\n",
       "    <tr>\n",
       "      <td>1</td>\n",
       "      <td>0.320450</td>\n",
       "      <td>0.048047</td>\n",
       "      <td>-0.191026</td>\n",
       "      <td>-0.426968</td>\n",
       "      <td>0.036491</td>\n",
       "      <td>0.182302</td>\n",
       "      <td>0.006652</td>\n",
       "    </tr>\n",
       "    <tr>\n",
       "      <td>2</td>\n",
       "      <td>0.725565</td>\n",
       "      <td>0.579702</td>\n",
       "      <td>0.214089</td>\n",
       "      <td>0.104687</td>\n",
       "      <td>0.045834</td>\n",
       "      <td>0.010959</td>\n",
       "      <td>0.000502</td>\n",
       "    </tr>\n",
       "    <tr>\n",
       "      <td>3</td>\n",
       "      <td>0.020798</td>\n",
       "      <td>0.099272</td>\n",
       "      <td>-0.490678</td>\n",
       "      <td>-0.375743</td>\n",
       "      <td>0.240765</td>\n",
       "      <td>0.141183</td>\n",
       "      <td>0.033992</td>\n",
       "    </tr>\n",
       "    <tr>\n",
       "      <td>4</td>\n",
       "      <td>0.781805</td>\n",
       "      <td>0.481671</td>\n",
       "      <td>0.270329</td>\n",
       "      <td>0.006655</td>\n",
       "      <td>0.073078</td>\n",
       "      <td>0.000044</td>\n",
       "      <td>0.000003</td>\n",
       "    </tr>\n",
       "    <tr>\n",
       "      <td>...</td>\n",
       "      <td>...</td>\n",
       "      <td>...</td>\n",
       "      <td>...</td>\n",
       "      <td>...</td>\n",
       "      <td>...</td>\n",
       "      <td>...</td>\n",
       "      <td>...</td>\n",
       "    </tr>\n",
       "    <tr>\n",
       "      <td>95</td>\n",
       "      <td>0.892801</td>\n",
       "      <td>0.705721</td>\n",
       "      <td>0.381324</td>\n",
       "      <td>0.230706</td>\n",
       "      <td>0.145408</td>\n",
       "      <td>0.053225</td>\n",
       "      <td>0.007739</td>\n",
       "    </tr>\n",
       "    <tr>\n",
       "      <td>96</td>\n",
       "      <td>0.899861</td>\n",
       "      <td>0.337589</td>\n",
       "      <td>0.388385</td>\n",
       "      <td>-0.137426</td>\n",
       "      <td>0.150843</td>\n",
       "      <td>0.018886</td>\n",
       "      <td>0.002849</td>\n",
       "    </tr>\n",
       "    <tr>\n",
       "      <td>97</td>\n",
       "      <td>0.951883</td>\n",
       "      <td>0.935979</td>\n",
       "      <td>0.440407</td>\n",
       "      <td>0.460963</td>\n",
       "      <td>0.193958</td>\n",
       "      <td>0.212487</td>\n",
       "      <td>0.041214</td>\n",
       "    </tr>\n",
       "    <tr>\n",
       "      <td>98</td>\n",
       "      <td>0.158723</td>\n",
       "      <td>0.396853</td>\n",
       "      <td>-0.352754</td>\n",
       "      <td>-0.078162</td>\n",
       "      <td>0.124435</td>\n",
       "      <td>0.006109</td>\n",
       "      <td>0.000760</td>\n",
       "    </tr>\n",
       "    <tr>\n",
       "      <td>99</td>\n",
       "      <td>0.239815</td>\n",
       "      <td>0.642821</td>\n",
       "      <td>-0.271661</td>\n",
       "      <td>0.167806</td>\n",
       "      <td>0.073800</td>\n",
       "      <td>0.028159</td>\n",
       "      <td>0.002078</td>\n",
       "    </tr>\n",
       "  </tbody>\n",
       "</table>\n",
       "<p>100 rows × 7 columns</p>\n",
       "</div>"
      ],
      "text/plain": [
       "           x         y    deltaX    deltaY  deltaX^2  deltaY^2  \\\n",
       "0   0.157512  0.271307 -0.353964 -0.203708  0.125291  0.041497   \n",
       "1   0.320450  0.048047 -0.191026 -0.426968  0.036491  0.182302   \n",
       "2   0.725565  0.579702  0.214089  0.104687  0.045834  0.010959   \n",
       "3   0.020798  0.099272 -0.490678 -0.375743  0.240765  0.141183   \n",
       "4   0.781805  0.481671  0.270329  0.006655  0.073078  0.000044   \n",
       "..       ...       ...       ...       ...       ...       ...   \n",
       "95  0.892801  0.705721  0.381324  0.230706  0.145408  0.053225   \n",
       "96  0.899861  0.337589  0.388385 -0.137426  0.150843  0.018886   \n",
       "97  0.951883  0.935979  0.440407  0.460963  0.193958  0.212487   \n",
       "98  0.158723  0.396853 -0.352754 -0.078162  0.124435  0.006109   \n",
       "99  0.239815  0.642821 -0.271661  0.167806  0.073800  0.028159   \n",
       "\n",
       "    deltaX2 * deltaY2  \n",
       "0            0.005199  \n",
       "1            0.006652  \n",
       "2            0.000502  \n",
       "3            0.033992  \n",
       "4            0.000003  \n",
       "..                ...  \n",
       "95           0.007739  \n",
       "96           0.002849  \n",
       "97           0.041214  \n",
       "98           0.000760  \n",
       "99           0.002078  \n",
       "\n",
       "[100 rows x 7 columns]"
      ]
     },
     "execution_count": 29,
     "metadata": {},
     "output_type": "execute_result"
    }
   ],
   "source": [
    "# Odjęcie od X wartości średniej\n",
    "deltaX = np.array([x - avgX for x in random_array[0,:]])\n",
    "# Odjęcie od Y wartości średniej\n",
    "deltaY = np.array([y - avgY for y in random_array[1,:]])\n",
    "\n",
    "# deltaX^2\n",
    "deltaX2 = np.square(deltaX)\n",
    "# deltaY^2\n",
    "deltaY2 = np.square(deltaY)\n",
    "\n",
    "deltaX2deltaY2 = deltaX2 * deltaY2\n",
    "\n",
    "result_df = pd.DataFrame(data = {'x' : random_array[0,:], 'y' : random_array[1, :], 'deltaX': deltaX, \n",
    "                                 'deltaY': deltaY, 'deltaX^2': deltaX2,'deltaY^2': deltaY2,\n",
    "                                  'deltaX2 * deltaY2' : deltaX2deltaY2})\n",
    "\n",
    "result_df"
   ]
  },
  {
   "cell_type": "code",
   "execution_count": 31,
   "metadata": {},
   "outputs": [
    {
     "name": "stdout",
     "output_type": "stream",
     "text": [
      "współczynnik a: \n",
      "0.08849073619348138\n"
     ]
    }
   ],
   "source": [
    "a = result_df['deltaX2 * deltaY2'].sum() / result_df['deltaX^2'].sum()\n",
    "print(\"współczynnik a: \")\n",
    "print(a)"
   ]
  },
  {
   "cell_type": "code",
   "execution_count": 32,
   "metadata": {},
   "outputs": [
    {
     "name": "stdout",
     "output_type": "stream",
     "text": [
      "współczynnik b: \n",
      "0.42975433410864816\n"
     ]
    }
   ],
   "source": [
    "b = avgY - a * avgX\n",
    "print(\"współczynnik b: \")\n",
    "print(b)"
   ]
  },
  {
   "cell_type": "code",
   "execution_count": 34,
   "metadata": {},
   "outputs": [
    {
     "data": {
      "image/png": "[encoded data removed]",
      "text/plain": [
       "<Figure size 432x288 with 1 Axes>"
      ]
     },
     "metadata": {
      "needs_background": "light"
     },
     "output_type": "display_data"
    }
   ],
   "source": [
    "plt.scatter(random_array[0,:], random_array[1,:])\n",
    "plt.plot(random_array[0,:], a * random_array[0,:] + b, color='red', linewidth = 2)\n",
    "plt.show()"
   ]
  },
  {
   "cell_type": "code",
   "execution_count": null,
   "metadata": {},
   "outputs": [],
   "source": []
  },
  {
   "cell_type": "code",
   "execution_count": null,
   "metadata": {},
   "outputs": [],
   "source": []
  },
  {
   "cell_type": "code",
   "execution_count": null,
   "metadata": {},
   "outputs": [],
   "source": []
  }
 ],
 "metadata": {
  "kernelspec": {
   "display_name": "Python 3",
   "language": "python",
   "name": "python3"
  },
  "language_info": {
   "codemirror_mode": {
    "name": "ipython",
    "version": 3
   },
   "file_extension": ".py",
   "mimetype": "text/x-python",
   "name": "python",
   "nbconvert_exporter": "python",
   "pygments_lexer": "ipython3",
   "version": "3.7.4"
  }
 },
 "nbformat": 4,
 "nbformat_minor": 2
}
