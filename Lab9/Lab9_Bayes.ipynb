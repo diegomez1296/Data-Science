{
 "cells": [
  {
   "cell_type": "code",
   "execution_count": 1,
   "metadata": {},
   "outputs": [],
   "source": [
    "from machine_learning import split_data\n",
    "from sklearn.naive_bayes import GaussianNB\n",
    "from sklearn import preprocessing\n",
    "from collections import defaultdict, Counter\n",
    "import random, math\n",
    "import re\n",
    "import glob"
   ]
  },
  {
   "cell_type": "code",
   "execution_count": null,
   "metadata": {},
   "outputs": [],
   "source": []
  },
  {
   "cell_type": "code",
   "execution_count": 2,
   "metadata": {},
   "outputs": [],
   "source": [
    "def tokenize(message):\n",
    "    message = message.lower() #Małe litery\n",
    "    all_words = re.findall(\"[a-z0-9]+\", message) #Wyciagnij słowa\n",
    "    return set(all_words) #Usun duplikaty"
   ]
  },
  {
   "cell_type": "code",
   "execution_count": 3,
   "metadata": {},
   "outputs": [],
   "source": [
    "#Tworzy słownik, którego kluczami są słowa, \n",
    "#a wartościami lista zawierająca liczbę wystąpień tego słowa \n",
    "#w wiadomościach będących i niebędących spamem.\n",
    "def count_words(training_set):\n",
    "    counts = defaultdict(lambda: [0,0])\n",
    "    for message, is_spam in training_set:\n",
    "        for word in tokenize(message):\n",
    "            counts[word][0 if is_spam else 1] += 1\n",
    "    return counts"
   ]
  },
  {
   "cell_type": "code",
   "execution_count": 4,
   "metadata": {},
   "outputs": [],
   "source": [
    "#Zamiana sum z metody wyżej na szacunki prawdopodobieństwa\n",
    "def word_probabilities(counts, total_spams, total_non_spams, k=0.5):\n",
    "    return [(w,\n",
    "             (spam + k) / (total_spams + 2 * k),\n",
    "             (non_spam + k) / (total_non_spams + 2 * k))\n",
    "             for w, (spam, non_spam) in counts.items()]"
   ]
  },
  {
   "cell_type": "code",
   "execution_count": 5,
   "metadata": {},
   "outputs": [],
   "source": [
    "#wykorzystanie naiwnego klasyfikatora do \n",
    "#przypisania prawdopodobieństw do wiadomości\n",
    "def spam_probability(word_probs, message):\n",
    "    message_words = tokenize(message)\n",
    "    log_prob_if_spam = log_prob_if_not_spam = 0.0\n",
    "    #iteracja po wszystkich słowach w słowniku\n",
    "    for word, prob_if_spam, prob_if_not_spam in word_probs:\n",
    "        \n",
    "        if word in message_words:\n",
    "            log_prob_if_spam += math.log(prob_if_spam)\n",
    "            log_prob_if_not_spam += math.log(prob_if_not_spam)\n",
    "        else:\n",
    "            log_prob_if_spam += math.log(1.0 - prob_if_spam)\n",
    "            log_prob_if_not_spam += math.log(1.0 - prob_if_not_spam)\n",
    "\n",
    "    prob_if_spam = math.exp(log_prob_if_spam)\n",
    "    prob_if_not_spam = math.exp(log_prob_if_not_spam)\n",
    "    return prob_if_spam / (prob_if_spam + prob_if_not_spam)"
   ]
  },
  {
   "cell_type": "code",
   "execution_count": 6,
   "metadata": {},
   "outputs": [],
   "source": [
    "#Połączenie elementów w celu uzyskania klasyfikatora\n",
    "\n",
    "class NaiveBayesClassifier:\n",
    "    \n",
    "    def __init__(self, k=0.5):\n",
    "        self.k = k\n",
    "        self.word_probs = []\n",
    "\n",
    "    def train(self, training_set):\n",
    "        #policzenie wiadomości będących/niebędących spamem\n",
    "        num_spams = len([is_spam\n",
    "                         for message, is_spam in training_set\n",
    "                         if is_spam])\n",
    "        num_non_spams = len(training_set) - num_spams\n",
    "        \n",
    "        #zbiór treningowy\n",
    "        word_counts = count_words(training_set)\n",
    "        self.word_probs = word_probabilities(word_counts,\n",
    "                                             num_spams,\n",
    "                                             num_non_spams,\n",
    "                                             self.k)\n",
    "\n",
    "    def classify(self, message):\n",
    "        return spam_probability(self.word_probs, message)"
   ]
  },
  {
   "cell_type": "code",
   "execution_count": 7,
   "metadata": {},
   "outputs": [
    {
     "name": "stdout",
     "output_type": "stream",
     "text": [
      "Counter({(False, False): 1226, (True, True): 497, (False, True): 102, (True, False): 75})\n",
      "\n",
      "\n",
      "\n",
      "spammiest_hams [('I have the power!', False, 0.9961940340530601), ('Do you have a handlebar moustache? Then the Handlebar Club is the', False, 0.9984541935721399), (\"W3C approves HTML 4 'emotitags' - Now you'll be able to say it with feeling\", False, 0.9988273616120034), ('Scientists prove that shoe size and penis size are not linked.', False, 0.9993561754649771), ('\"I meditated in a cave for 12 years and now I\\'m here to tell you', False, 0.9998211054357108)]\n",
      "\n",
      "\n",
      "\n",
      "hammiest_spams [('I was so scared... my very first DP', True, 0.00014937408846668908), ('RE: Own An Automated Shopping Mall                       32736', True, 0.0010522676501445436), ('Re: Funny', True, 0.003175585287622473), ('Hassle-Free Microsoft SQL Server Remote Database Administration', True, 0.005946956368659447), ('Re: What a night!', True, 0.008859893191118675)]\n",
      "\n",
      "\n",
      "\n"
     ]
    }
   ],
   "source": [
    "#Testowanie modelu\n",
    "path = r\"F:\\\\_Semestr7\\\\Laborki_DS\\\\Spam\\\\*\\\\**\"\n",
    "data = []\n",
    "\n",
    "for fn in glob.glob(path):\n",
    "    is_spam = \"ham\" not in fn\n",
    "\n",
    "    with open(fn,'r',encoding='ISO-8859-1') as file:\n",
    "        for line in file:\n",
    "            if line.startswith(\"Subject:\"):\n",
    "                subject = re.sub(r\"^Subject: \", \"\", line).strip()\n",
    "                data.append((subject, is_spam))\n",
    "                \n",
    "random.seed(0)\n",
    "train_data, test_data = split_data(data, 0.70)\n",
    "\n",
    "classifier = NaiveBayesClassifier()\n",
    "classifier.train(train_data)\n",
    "\n",
    "classified = [(subject, is_spam, classifier.classify(subject))\n",
    "              for subject, is_spam in test_data]\n",
    "\n",
    "counts = Counter((is_spam, spam_probability > 0.5)\n",
    "                 for _, is_spam, spam_probability in classified)\n",
    "\n",
    "print(counts)\n",
    "print('\\n\\n')\n",
    "\n",
    "#Sortuj według wartości spam_probability\n",
    "classified.sort(key=lambda row: row[2])\n",
    "\n",
    "#Największe prawdopodob. spamu uzyskane wśród wiadomości niebędących spamem:\n",
    "spammiest_hams = list(filter(lambda row: not row[1], classified))[-5:]\n",
    "#Najmniejsze prawdopodob. spamu uzyskane wśród wiadomości będących spamem:\n",
    "hammiest_spams = list(filter(lambda row: row[1], classified))[:5]\n",
    "\n",
    "print(\"spammiest_hams\", spammiest_hams)\n",
    "print('\\n\\n')\n",
    "\n",
    "print(\"hammiest_spams\", hammiest_spams)\n",
    "print('\\n\\n')\n",
    "    "
   ]
  },
  {
   "cell_type": "code",
   "execution_count": 8,
   "metadata": {},
   "outputs": [
    {
     "name": "stdout",
     "output_type": "stream",
     "text": [
      "spammiest_hams [('I have the power!', False, 0.9961940340530601), ('Do you have a handlebar moustache? Then the Handlebar Club is the', False, 0.9984541935721399), (\"W3C approves HTML 4 'emotitags' - Now you'll be able to say it with feeling\", False, 0.9988273616120034), ('Scientists prove that shoe size and penis size are not linked.', False, 0.9993561754649771), ('\"I meditated in a cave for 12 years and now I\\'m here to tell you', False, 0.9998211054357108)]\n",
      "\n",
      "\n",
      "\n",
      "hammiest_spams [('I was so scared... my very first DP', True, 0.00014937408846668908), ('RE: Own An Automated Shopping Mall                       32736', True, 0.0010522676501445436), ('Re: Funny', True, 0.003175585287622473), ('Hassle-Free Microsoft SQL Server Remote Database Administration', True, 0.005946956368659447), ('Re: What a night!', True, 0.008859893191118675)]\n",
      "\n",
      "\n",
      "\n"
     ]
    }
   ],
   "source": [
    "#Najczęściej używane słowa w spamie\n",
    "def p_spam_given_word(word_prob):\n",
    "    word, prob_if_spam, prob_if_not_spam = word_prob\n",
    "    return prob_if_spam / (prob_if_spam + prob_if_not_spam)\n",
    "\n",
    "words = sorted(classifier.word_probs, key=p_spam_given_word)\n",
    "\n",
    "spammiest_words = words[-5:]\n",
    "hammiest_words = words[:5]\n",
    "\n",
    "print(\"spammiest_hams\", spammiest_hams)\n",
    "print('\\n\\n')\n",
    "\n",
    "print(\"hammiest_spams\", hammiest_spams)\n",
    "print('\\n\\n')"
   ]
  },
  {
   "cell_type": "code",
   "execution_count": null,
   "metadata": {},
   "outputs": [],
   "source": []
  }
 ],
 "metadata": {
  "kernelspec": {
   "display_name": "Python 3",
   "language": "python",
   "name": "python3"
  },
  "language_info": {
   "codemirror_mode": {
    "name": "ipython",
    "version": 3
   },
   "file_extension": ".py",
   "mimetype": "text/x-python",
   "name": "python",
   "nbconvert_exporter": "python",
   "pygments_lexer": "ipython3",
   "version": "3.7.4"
  }
 },
 "nbformat": 4,
 "nbformat_minor": 2
}
